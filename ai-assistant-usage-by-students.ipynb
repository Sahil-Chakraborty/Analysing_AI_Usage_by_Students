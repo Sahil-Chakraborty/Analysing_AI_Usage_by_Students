{
 "cells": [
  {
   "cell_type": "code",
   "execution_count": 1,
   "metadata": {
    "trusted": true
   },
   "outputs": [],
   "source": [
    "# Import essential libraries\n",
    "import pandas as pd\n",
    "import numpy as np\n",
    "import matplotlib.pyplot as plt\n",
    "import seaborn as sns\n"
   ]
  },
  {
   "cell_type": "markdown",
   "metadata": {},
   "source": [
    "**Analysing the usage of AI assistant by students**"
   ]
  },
  {
   "cell_type": "code",
   "execution_count": 53,
   "metadata": {},
   "outputs": [
    {
     "data": {
      "text/html": [
       "<div>\n",
       "<style scoped>\n",
       "    .dataframe tbody tr th:only-of-type {\n",
       "        vertical-align: middle;\n",
       "    }\n",
       "\n",
       "    .dataframe tbody tr th {\n",
       "        vertical-align: top;\n",
       "    }\n",
       "\n",
       "    .dataframe thead th {\n",
       "        text-align: right;\n",
       "    }\n",
       "</style>\n",
       "<table border=\"1\" class=\"dataframe\">\n",
       "  <thead>\n",
       "    <tr style=\"text-align: right;\">\n",
       "      <th></th>\n",
       "      <th>SessionID</th>\n",
       "      <th>StudentLevel</th>\n",
       "      <th>Discipline</th>\n",
       "      <th>SessionDate</th>\n",
       "      <th>SessionLengthMin</th>\n",
       "      <th>TotalPrompts</th>\n",
       "      <th>TaskType</th>\n",
       "      <th>AI_AssistanceLevel</th>\n",
       "      <th>FinalOutcome</th>\n",
       "      <th>UsedAgain</th>\n",
       "      <th>SatisfactionRating</th>\n",
       "      <th>Months</th>\n",
       "      <th>Years</th>\n",
       "    </tr>\n",
       "  </thead>\n",
       "  <tbody>\n",
       "    <tr>\n",
       "      <th>0</th>\n",
       "      <td>SESSION00001</td>\n",
       "      <td>Undergraduate</td>\n",
       "      <td>Computer Science</td>\n",
       "      <td>2024-11-03</td>\n",
       "      <td>31.20</td>\n",
       "      <td>11</td>\n",
       "      <td>Studying</td>\n",
       "      <td>2</td>\n",
       "      <td>Assignment Completed</td>\n",
       "      <td>True</td>\n",
       "      <td>1.0</td>\n",
       "      <td>11</td>\n",
       "      <td>2024</td>\n",
       "    </tr>\n",
       "    <tr>\n",
       "      <th>1</th>\n",
       "      <td>SESSION00002</td>\n",
       "      <td>Undergraduate</td>\n",
       "      <td>Psychology</td>\n",
       "      <td>2024-08-25</td>\n",
       "      <td>13.09</td>\n",
       "      <td>6</td>\n",
       "      <td>Studying</td>\n",
       "      <td>3</td>\n",
       "      <td>Assignment Completed</td>\n",
       "      <td>True</td>\n",
       "      <td>2.0</td>\n",
       "      <td>8</td>\n",
       "      <td>2024</td>\n",
       "    </tr>\n",
       "    <tr>\n",
       "      <th>2</th>\n",
       "      <td>SESSION00003</td>\n",
       "      <td>Undergraduate</td>\n",
       "      <td>Business</td>\n",
       "      <td>2025-01-12</td>\n",
       "      <td>19.22</td>\n",
       "      <td>5</td>\n",
       "      <td>Coding</td>\n",
       "      <td>3</td>\n",
       "      <td>Assignment Completed</td>\n",
       "      <td>True</td>\n",
       "      <td>3.3</td>\n",
       "      <td>1</td>\n",
       "      <td>2025</td>\n",
       "    </tr>\n",
       "    <tr>\n",
       "      <th>3</th>\n",
       "      <td>SESSION00004</td>\n",
       "      <td>Undergraduate</td>\n",
       "      <td>Computer Science</td>\n",
       "      <td>2025-05-06</td>\n",
       "      <td>3.70</td>\n",
       "      <td>1</td>\n",
       "      <td>Coding</td>\n",
       "      <td>3</td>\n",
       "      <td>Assignment Completed</td>\n",
       "      <td>True</td>\n",
       "      <td>3.5</td>\n",
       "      <td>5</td>\n",
       "      <td>2025</td>\n",
       "    </tr>\n",
       "    <tr>\n",
       "      <th>4</th>\n",
       "      <td>SESSION00005</td>\n",
       "      <td>Undergraduate</td>\n",
       "      <td>Psychology</td>\n",
       "      <td>2025-03-18</td>\n",
       "      <td>28.12</td>\n",
       "      <td>9</td>\n",
       "      <td>Writing</td>\n",
       "      <td>3</td>\n",
       "      <td>Assignment Completed</td>\n",
       "      <td>True</td>\n",
       "      <td>2.9</td>\n",
       "      <td>3</td>\n",
       "      <td>2025</td>\n",
       "    </tr>\n",
       "    <tr>\n",
       "      <th>5</th>\n",
       "      <td>SESSION00006</td>\n",
       "      <td>Graduate</td>\n",
       "      <td>Business</td>\n",
       "      <td>2025-01-17</td>\n",
       "      <td>7.54</td>\n",
       "      <td>1</td>\n",
       "      <td>Coding</td>\n",
       "      <td>5</td>\n",
       "      <td>Idea Drafted</td>\n",
       "      <td>True</td>\n",
       "      <td>5.0</td>\n",
       "      <td>1</td>\n",
       "      <td>2025</td>\n",
       "    </tr>\n",
       "    <tr>\n",
       "      <th>6</th>\n",
       "      <td>SESSION00007</td>\n",
       "      <td>High School</td>\n",
       "      <td>Biology</td>\n",
       "      <td>2024-09-07</td>\n",
       "      <td>14.60</td>\n",
       "      <td>3</td>\n",
       "      <td>Writing</td>\n",
       "      <td>3</td>\n",
       "      <td>Assignment Completed</td>\n",
       "      <td>False</td>\n",
       "      <td>1.9</td>\n",
       "      <td>9</td>\n",
       "      <td>2024</td>\n",
       "    </tr>\n",
       "    <tr>\n",
       "      <th>7</th>\n",
       "      <td>SESSION00008</td>\n",
       "      <td>Undergraduate</td>\n",
       "      <td>Biology</td>\n",
       "      <td>2024-12-26</td>\n",
       "      <td>9.20</td>\n",
       "      <td>3</td>\n",
       "      <td>Writing</td>\n",
       "      <td>5</td>\n",
       "      <td>Assignment Completed</td>\n",
       "      <td>True</td>\n",
       "      <td>3.9</td>\n",
       "      <td>12</td>\n",
       "      <td>2024</td>\n",
       "    </tr>\n",
       "    <tr>\n",
       "      <th>8</th>\n",
       "      <td>SESSION00009</td>\n",
       "      <td>Undergraduate</td>\n",
       "      <td>Business</td>\n",
       "      <td>2025-06-18</td>\n",
       "      <td>8.15</td>\n",
       "      <td>1</td>\n",
       "      <td>Brainstorming</td>\n",
       "      <td>3</td>\n",
       "      <td>Assignment Completed</td>\n",
       "      <td>True</td>\n",
       "      <td>3.3</td>\n",
       "      <td>6</td>\n",
       "      <td>2025</td>\n",
       "    </tr>\n",
       "    <tr>\n",
       "      <th>9</th>\n",
       "      <td>SESSION00010</td>\n",
       "      <td>Undergraduate</td>\n",
       "      <td>Math</td>\n",
       "      <td>2025-04-14</td>\n",
       "      <td>5.57</td>\n",
       "      <td>1</td>\n",
       "      <td>Studying</td>\n",
       "      <td>3</td>\n",
       "      <td>Assignment Completed</td>\n",
       "      <td>False</td>\n",
       "      <td>1.4</td>\n",
       "      <td>4</td>\n",
       "      <td>2025</td>\n",
       "    </tr>\n",
       "  </tbody>\n",
       "</table>\n",
       "</div>"
      ],
      "text/plain": [
       "      SessionID   StudentLevel        Discipline SessionDate  \\\n",
       "0  SESSION00001  Undergraduate  Computer Science  2024-11-03   \n",
       "1  SESSION00002  Undergraduate        Psychology  2024-08-25   \n",
       "2  SESSION00003  Undergraduate          Business  2025-01-12   \n",
       "3  SESSION00004  Undergraduate  Computer Science  2025-05-06   \n",
       "4  SESSION00005  Undergraduate        Psychology  2025-03-18   \n",
       "5  SESSION00006       Graduate          Business  2025-01-17   \n",
       "6  SESSION00007    High School           Biology  2024-09-07   \n",
       "7  SESSION00008  Undergraduate           Biology  2024-12-26   \n",
       "8  SESSION00009  Undergraduate          Business  2025-06-18   \n",
       "9  SESSION00010  Undergraduate              Math  2025-04-14   \n",
       "\n",
       "   SessionLengthMin  TotalPrompts       TaskType  AI_AssistanceLevel  \\\n",
       "0             31.20            11       Studying                   2   \n",
       "1             13.09             6       Studying                   3   \n",
       "2             19.22             5         Coding                   3   \n",
       "3              3.70             1         Coding                   3   \n",
       "4             28.12             9        Writing                   3   \n",
       "5              7.54             1         Coding                   5   \n",
       "6             14.60             3        Writing                   3   \n",
       "7              9.20             3        Writing                   5   \n",
       "8              8.15             1  Brainstorming                   3   \n",
       "9              5.57             1       Studying                   3   \n",
       "\n",
       "           FinalOutcome  UsedAgain  SatisfactionRating  Months  Years  \n",
       "0  Assignment Completed       True                 1.0      11   2024  \n",
       "1  Assignment Completed       True                 2.0       8   2024  \n",
       "2  Assignment Completed       True                 3.3       1   2025  \n",
       "3  Assignment Completed       True                 3.5       5   2025  \n",
       "4  Assignment Completed       True                 2.9       3   2025  \n",
       "5          Idea Drafted       True                 5.0       1   2025  \n",
       "6  Assignment Completed      False                 1.9       9   2024  \n",
       "7  Assignment Completed       True                 3.9      12   2024  \n",
       "8  Assignment Completed       True                 3.3       6   2025  \n",
       "9  Assignment Completed      False                 1.4       4   2025  "
      ]
     },
     "execution_count": 53,
     "metadata": {},
     "output_type": "execute_result"
    }
   ],
   "source": [
    "my_data=pd.read_csv('/Users/sahilchakraborty/Desktop/Data_analysis/Analysis2/AI_assistant_usage.csv')\n",
    "my_data['SessionDate']=pd.to_datetime(my_data['SessionDate'])\n",
    "my_data['Months']=my_data['SessionDate'].dt.month\n",
    "my_data['Years']=my_data['SessionDate'].dt.year\n",
    "my_data.head(10)\n"
   ]
  },
  {
   "cell_type": "markdown",
   "metadata": {},
   "source": [
    "**Analysing wheather AI assistance level correlate with satisfaction**"
   ]
  },
  {
   "cell_type": "code",
   "execution_count": 31,
   "metadata": {},
   "outputs": [
    {
     "data": {
      "text/html": [
       "<div>\n",
       "<style scoped>\n",
       "    .dataframe tbody tr th:only-of-type {\n",
       "        vertical-align: middle;\n",
       "    }\n",
       "\n",
       "    .dataframe tbody tr th {\n",
       "        vertical-align: top;\n",
       "    }\n",
       "\n",
       "    .dataframe thead th {\n",
       "        text-align: right;\n",
       "    }\n",
       "</style>\n",
       "<table border=\"1\" class=\"dataframe\">\n",
       "  <thead>\n",
       "    <tr style=\"text-align: right;\">\n",
       "      <th></th>\n",
       "      <th>AI_AssistanceLevel</th>\n",
       "      <th>SatisfactionRating</th>\n",
       "    </tr>\n",
       "  </thead>\n",
       "  <tbody>\n",
       "    <tr>\n",
       "      <th>0</th>\n",
       "      <td>1</td>\n",
       "      <td>1.33</td>\n",
       "    </tr>\n",
       "    <tr>\n",
       "      <th>1</th>\n",
       "      <td>2</td>\n",
       "      <td>2.00</td>\n",
       "    </tr>\n",
       "    <tr>\n",
       "      <th>2</th>\n",
       "      <td>3</td>\n",
       "      <td>2.99</td>\n",
       "    </tr>\n",
       "    <tr>\n",
       "      <th>3</th>\n",
       "      <td>4</td>\n",
       "      <td>3.96</td>\n",
       "    </tr>\n",
       "    <tr>\n",
       "      <th>4</th>\n",
       "      <td>5</td>\n",
       "      <td>4.67</td>\n",
       "    </tr>\n",
       "  </tbody>\n",
       "</table>\n",
       "</div>"
      ],
      "text/plain": [
       "   AI_AssistanceLevel  SatisfactionRating\n",
       "0                   1                1.33\n",
       "1                   2                2.00\n",
       "2                   3                2.99\n",
       "3                   4                3.96\n",
       "4                   5                4.67"
      ]
     },
     "execution_count": 31,
     "metadata": {},
     "output_type": "execute_result"
    }
   ],
   "source": [
    "data1=my_data.groupby('AI_AssistanceLevel')['SatisfactionRating'].mean().round(2).reset_index()\n",
    "data1.head(5)"
   ]
  },
  {
   "cell_type": "code",
   "execution_count": 39,
   "metadata": {},
   "outputs": [
    {
     "name": "stderr",
     "output_type": "stream",
     "text": [
      "/var/folders/cv/jn5269f15g7gvsxdrc067lbc0000gn/T/ipykernel_40349/620050506.py:3: FutureWarning: \n",
      "\n",
      "Passing `palette` without assigning `hue` is deprecated and will be removed in v0.14.0. Assign the `x` variable to `hue` and set `legend=False` for the same effect.\n",
      "\n",
      "  sns.barplot(x='AI_AssistanceLevel', y='SatisfactionRating', data=data1, palette='viridis')\n"
     ]
    },
    {
     "data": {
      "image/png": "[encoded data removed]",
      "text/plain": [
       "<Figure size 640x480 with 1 Axes>"
      ]
     },
     "metadata": {},
     "output_type": "display_data"
    }
   ],
   "source": [
    "# Plotting the data\n",
    "plt.title('AI Assistance Level vs Satisfaction Rating (Scale 1-5)')\n",
    "sns.barplot(x='AI_AssistanceLevel', y='SatisfactionRating', data=data1, palette='viridis')\n",
    "plt.xlabel('AI Assistance Level')\n",
    "plt.ylabel('Satisfaction Rating')\n",
    "plt.show()"
   ]
  },
  {
   "cell_type": "markdown",
   "metadata": {},
   "source": [
    "**Analysing which task type takes the most time on average**"
   ]
  },
  {
   "cell_type": "code",
   "execution_count": 40,
   "metadata": {},
   "outputs": [
    {
     "data": {
      "text/plain": [
       "TaskType\n",
       "Brainstorming    21.96\n",
       "Coding           19.47\n",
       "Homework Help    19.94\n",
       "Research         20.41\n",
       "Studying         19.71\n",
       "Writing          19.71\n",
       "Name: SessionLengthMin, dtype: float64"
      ]
     },
     "execution_count": 40,
     "metadata": {},
     "output_type": "execute_result"
    }
   ],
   "source": [
    "data2=my_data.groupby('TaskType')['SessionLengthMin'].mean().round(2)\n",
    "data2.head(6)"
   ]
  },
  {
   "cell_type": "code",
   "execution_count": 41,
   "metadata": {},
   "outputs": [
    {
     "name": "stderr",
     "output_type": "stream",
     "text": [
      "/var/folders/cv/jn5269f15g7gvsxdrc067lbc0000gn/T/ipykernel_40349/476171795.py:3: FutureWarning: \n",
      "\n",
      "Passing `palette` without assigning `hue` is deprecated and will be removed in v0.14.0. Assign the `y` variable to `hue` and set `legend=False` for the same effect.\n",
      "\n",
      "  sns.barplot(y=data2.index,x= data2.values, palette='viridis')\n"
     ]
    },
    {
     "data": {
      "image/png": "[encoded data removed]",
      "text/plain": [
       "<Figure size 640x480 with 1 Axes>"
      ]
     },
     "metadata": {},
     "output_type": "display_data"
    }
   ],
   "source": [
    "# Plotting the data\n",
    "plt.title('Task Type vs Average Session Length (minutes)')\n",
    "sns.barplot(y=data2.index,x= data2.values, palette='viridis')\n",
    "plt.ylabel('Task Type')\n",
    "plt.xlabel('Average Session Length (minutes)')\n",
    "plt.show()"
   ]
  },
  {
   "cell_type": "markdown",
   "metadata": {},
   "source": [
    "**Analysing which discipline requests the most prompts per session**"
   ]
  },
  {
   "cell_type": "code",
   "execution_count": 71,
   "metadata": {},
   "outputs": [
    {
     "data": {
      "text/plain": [
       "Discipline\n",
       "Biology             39\n",
       "Business            38\n",
       "Computer Science    39\n",
       "Engineering         33\n",
       "History             30\n",
       "Math                28\n",
       "Psychology          38\n",
       "Name: TotalPrompts, dtype: int64"
      ]
     },
     "execution_count": 71,
     "metadata": {},
     "output_type": "execute_result"
    }
   ],
   "source": [
    "data3=my_data.groupby('Discipline')['TotalPrompts'].max().round(2)\n",
    "data3.head(10)"
   ]
  },
  {
   "cell_type": "code",
   "execution_count": 72,
   "metadata": {},
   "outputs": [
    {
     "name": "stderr",
     "output_type": "stream",
     "text": [
      "/var/folders/cv/jn5269f15g7gvsxdrc067lbc0000gn/T/ipykernel_40349/3047149307.py:3: FutureWarning: \n",
      "\n",
      "Passing `palette` without assigning `hue` is deprecated and will be removed in v0.14.0. Assign the `y` variable to `hue` and set `legend=False` for the same effect.\n",
      "\n",
      "  sns.barplot(y=data3.index,x= data3.values, palette='viridis')\n"
     ]
    },
    {
     "data": {
      "image/png": "[encoded data removed]",
      "text/plain": [
       "<Figure size 640x480 with 1 Axes>"
      ]
     },
     "metadata": {},
     "output_type": "display_data"
    }
   ],
   "source": [
    "#plotting the data\n",
    "plt.title('Discipline vs Total Prompts')\n",
    "sns.barplot(y=data3.index,x= data3.values, palette='viridis')\n",
    "plt.ylabel('Discipline')\n",
    "plt.xlabel('Total Prompts')\n",
    "plt.show()"
   ]
  },
  {
   "cell_type": "markdown",
   "metadata": {},
   "source": [
    "**Analysing AI usage by students of different level of each task types**"
   ]
  },
  {
   "cell_type": "code",
   "execution_count": 83,
   "metadata": {},
   "outputs": [
    {
     "data": {
      "text/html": [
       "<div>\n",
       "<style scoped>\n",
       "    .dataframe tbody tr th:only-of-type {\n",
       "        vertical-align: middle;\n",
       "    }\n",
       "\n",
       "    .dataframe tbody tr th {\n",
       "        vertical-align: top;\n",
       "    }\n",
       "\n",
       "    .dataframe thead th {\n",
       "        text-align: right;\n",
       "    }\n",
       "</style>\n",
       "<table border=\"1\" class=\"dataframe\">\n",
       "  <thead>\n",
       "    <tr style=\"text-align: right;\">\n",
       "      <th>TaskType</th>\n",
       "      <th>Brainstorming</th>\n",
       "      <th>Coding</th>\n",
       "      <th>Homework Help</th>\n",
       "      <th>Research</th>\n",
       "      <th>Studying</th>\n",
       "      <th>Writing</th>\n",
       "    </tr>\n",
       "    <tr>\n",
       "      <th>StudentLevel</th>\n",
       "      <th></th>\n",
       "      <th></th>\n",
       "      <th></th>\n",
       "      <th></th>\n",
       "      <th></th>\n",
       "      <th></th>\n",
       "    </tr>\n",
       "  </thead>\n",
       "  <tbody>\n",
       "    <tr>\n",
       "      <th>Graduate</th>\n",
       "      <td>99</td>\n",
       "      <td>399</td>\n",
       "      <td>399</td>\n",
       "      <td>114</td>\n",
       "      <td>382</td>\n",
       "      <td>602</td>\n",
       "    </tr>\n",
       "    <tr>\n",
       "      <th>High School</th>\n",
       "      <td>90</td>\n",
       "      <td>373</td>\n",
       "      <td>395</td>\n",
       "      <td>97</td>\n",
       "      <td>442</td>\n",
       "      <td>630</td>\n",
       "    </tr>\n",
       "    <tr>\n",
       "      <th>Undergraduate</th>\n",
       "      <td>287</td>\n",
       "      <td>1176</td>\n",
       "      <td>1165</td>\n",
       "      <td>265</td>\n",
       "      <td>1216</td>\n",
       "      <td>1869</td>\n",
       "    </tr>\n",
       "  </tbody>\n",
       "</table>\n",
       "</div>"
      ],
      "text/plain": [
       "TaskType       Brainstorming  Coding  Homework Help  Research  Studying  \\\n",
       "StudentLevel                                                              \n",
       "Graduate                  99     399            399       114       382   \n",
       "High School               90     373            395        97       442   \n",
       "Undergraduate            287    1176           1165       265      1216   \n",
       "\n",
       "TaskType       Writing  \n",
       "StudentLevel            \n",
       "Graduate           602  \n",
       "High School        630  \n",
       "Undergraduate     1869  "
      ]
     },
     "execution_count": 83,
     "metadata": {},
     "output_type": "execute_result"
    }
   ],
   "source": [
    "data4=my_data.groupby('StudentLevel')['TaskType'].value_counts().unstack().fillna(0)\n",
    "data4.head(10)"
   ]
  },
  {
   "cell_type": "code",
   "execution_count": 93,
   "metadata": {},
   "outputs": [
    {
     "data": {
      "image/png": "[encoded data removed]",
      "text/plain": [
       "<Figure size 640x480 with 1 Axes>"
      ]
     },
     "metadata": {},
     "output_type": "display_data"
    }
   ],
   "source": [
    "# Plotting the data\n",
    "\n",
    "df=data4.plot(kind='bar',title='AI usage for each task by different students level', stacked=True, colormap='viridis')\n",
    "plt.xlabel('Student Level')\n",
    "plt.ylabel('Task Type Counts')\n",
    "plt.legend(title='Task Type')\n",
    "plt.show()"
   ]
  },
  {
   "cell_type": "markdown",
   "metadata": {},
   "source": [
    "**Conclusion**\n",
    "\n",
    "The analysis reveals several clear insights into AI assistant usage patterns:\n",
    "\n",
    "* AI Assistance Level vs Satisfaction – Higher assistance levels (4–5) consistently yield higher satisfaction ratings, showing a direct correlation between guidance depth and user contentment.\n",
    "\n",
    "* Task Type vs Session Length – Brainstorming sessions tend to last longer than other tasks, suggesting deeper engagement, whereas Coding and   Writing have moderately long sessions.\n",
    "\n",
    "* Discipline vs Total Prompts – Computer Science, Psychology, and Biology disciplines show the highest average prompts, indicating heavier reliance on AI for academic support.\n",
    "\n",
    "* Student Level vs Task Usage – Undergraduates dominate AI usage across all task types, especially in Writing and Studying, while High School and Graduate users show balanced but lower activity.\n",
    "\n",
    "==============================================================================================================================================\n",
    "\n",
    "**Overall, the findings suggest that AI is most impactful in writing-heavy and study-focused contexts, especially for undergraduate students, with higher assistance levels translating into greater user satisfaction.**"
   ]
  }
 ],
 "metadata": {
  "kaggle": {
   "accelerator": "none",
   "dataSources": [],
   "isGpuEnabled": false,
   "isInternetEnabled": true,
   "language": "python",
   "sourceType": "notebook"
  },
  "kernelspec": {
   "display_name": "Python 3",
   "language": "python",
   "name": "python3"
  },
  "language_info": {
   "codemirror_mode": {
    "name": "ipython",
    "version": 3
   },
   "file_extension": ".py",
   "mimetype": "text/x-python",
   "name": "python",
   "nbconvert_exporter": "python",
   "pygments_lexer": "ipython3",
   "version": "3.9.6"
  }
 },
 "nbformat": 4,
 "nbformat_minor": 4
}
